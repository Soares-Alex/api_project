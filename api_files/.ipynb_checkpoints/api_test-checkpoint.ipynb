{
 "cells": [
  {
   "cell_type": "code",
   "execution_count": null,
   "id": "b5c8688a",
   "metadata": {},
   "outputs": [],
   "source": [
    "!pwd"
   ]
  },
  {
   "cell_type": "code",
   "execution_count": null,
   "id": "c6106ad6",
   "metadata": {},
   "outputs": [],
   "source": [
    "# install requests library or model\n",
    "!pip install requests\n"
   ]
  },
  {
   "cell_type": "code",
   "execution_count": null,
   "id": "a5c3b903",
   "metadata": {},
   "outputs": [],
   "source": [
    "# import the model\n",
    "import requests\n",
    "\n",
    "# get the website\n",
    "r = requests.get (\"https://xkcd.com/353/\")\n",
    "# print the answer\n",
    "print(r)"
   ]
  },
  {
   "cell_type": "code",
   "execution_count": null,
   "id": "f4fc9faa",
   "metadata": {},
   "outputs": [],
   "source": [
    "# description of attributs and methods\n",
    "print (dir(r))\n",
    "print()\n",
    "print(\"______________________HELP__________________\")\n",
    "print()\n",
    "print(help(r))"
   ]
  },
  {
   "cell_type": "code",
   "execution_count": null,
   "id": "cbfce056",
   "metadata": {},
   "outputs": [],
   "source": [
    "# print content\n",
    "print(r.text)\n"
   ]
  },
  {
   "cell_type": "code",
   "execution_count": null,
   "id": "b956a7ec",
   "metadata": {},
   "outputs": [],
   "source": [
    "\n",
    "r_img = requests.get('https://imgs.xkcd.com/comics/python.png')\n",
    "# print image and save it as png\n",
    "with open ('comic.png' , 'wb') as f:\n",
    "    # save it as pixels\n",
    "    f.write(r_img.content)\n",
    "    "
   ]
  },
  {
   "cell_type": "code",
   "execution_count": null,
   "id": "b5b29bf2",
   "metadata": {},
   "outputs": [],
   "source": [
    "print(\"_________________________ CONTENT ________________________\")\n",
    "print()\n",
    "print(r_img.content)\n",
    "\n",
    "print(\"__________________________ REAL __________________________\")\n",
    "print()\n",
    "print(r_img.headers)"
   ]
  },
  {
   "cell_type": "code",
   "execution_count": null,
   "id": "a7168db3",
   "metadata": {},
   "outputs": [],
   "source": []
  },
  {
   "cell_type": "code",
   "execution_count": 12,
   "id": "1d3e0177",
   "metadata": {},
   "outputs": [
    {
     "name": "stdout",
     "output_type": "stream",
     "text": [
      "{\n",
      "  \"args\": {\n",
      "    \"password\": \"alex\", \n",
      "    \"username\": \"Alex\"\n",
      "  }, \n",
      "  \"data\": \"\", \n",
      "  \"files\": {}, \n",
      "  \"form\": {}, \n",
      "  \"headers\": {\n",
      "    \"Accept\": \"*/*\", \n",
      "    \"Accept-Encoding\": \"gzip, deflate\", \n",
      "    \"Content-Length\": \"0\", \n",
      "    \"Host\": \"httpbin.org\", \n",
      "    \"User-Agent\": \"python-requests/2.22.0\", \n",
      "    \"X-Amzn-Trace-Id\": \"Root=1-6158920c-11d9e60e53949f4d672169cf\"\n",
      "  }, \n",
      "  \"json\": null, \n",
      "  \"origin\": \"81.249.244.251\", \n",
      "  \"url\": \"https://httpbin.org/post?username=Alex&password=alex\"\n",
      "}\n",
      "\n"
     ]
    }
   ],
   "source": [
    "# import the model\n",
    "import requests\n",
    "\n",
    "#payload ={'page':2 , 'count': 25}\n",
    "\n",
    "payload ={'username':\"Alex\" , 'password':\"alex\"}\n",
    "\n",
    "# new website training\n",
    "# r_r = requests.get(\"https://httpbin.org/get\", params = payload)\n",
    "\n",
    "r_r = requests.post(\"https://httpbin.org/post\", params = payload)\n",
    "print(r_r.text)"
   ]
  },
  {
   "cell_type": "code",
   "execution_count": null,
   "id": "e6efab27",
   "metadata": {},
   "outputs": [],
   "source": []
  },
  {
   "cell_type": "code",
   "execution_count": null,
   "id": "d0adf6ee",
   "metadata": {},
   "outputs": [],
   "source": []
  }
 ],
 "metadata": {
  "kernelspec": {
   "display_name": "Python 3 (ipykernel)",
   "language": "python",
   "name": "python3"
  },
  "language_info": {
   "codemirror_mode": {
    "name": "ipython",
    "version": 3
   },
   "file_extension": ".py",
   "mimetype": "text/x-python",
   "name": "python",
   "nbconvert_exporter": "python",
   "pygments_lexer": "ipython3",
   "version": "3.8.10"
  }
 },
 "nbformat": 4,
 "nbformat_minor": 5
}
